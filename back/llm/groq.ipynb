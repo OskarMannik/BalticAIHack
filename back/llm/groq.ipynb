{
 "cells": [
  {
   "cell_type": "code",
   "execution_count": 1,
   "metadata": {},
   "outputs": [],
   "source": [
    "import os\n",
    "\n",
    "from groq import Groq\n",
    "\n",
    "client = Groq(\n",
    "    api_key=os.environ.get(\"GROQ_API_KEY\"),\n",
    ")\n"
   ]
  },
  {
   "cell_type": "code",
   "execution_count": 2,
   "metadata": {},
   "outputs": [
    {
     "name": "stdout",
     "output_type": "stream",
     "text": [
      "Classification Result: transportation\n"
     ]
    }
   ],
   "source": [
    "def classify_text(text, model=\"llama-3.1-8b-instant\"):\n",
    "    # Define a classification prompt\n",
    "    chat_completion = client.chat.completions.create(\n",
    "        messages=[\n",
    "            {\n",
    "                \"role\": \"system\",\n",
    "                \"content\": \"You are an AI classifier. Classify the following text into one of these categories: ['transportation', 'catering','customer service','security']. Respond with only the category name.\"\n",
    "            },\n",
    "            {\n",
    "                \"role\": \"user\",\n",
    "                \"content\": text,  # This is the text that needs classification\n",
    "            }\n",
    "        ],\n",
    "        model=model,\n",
    "    )\n",
    "\n",
    "    # Extract the classification result from the model's response\n",
    "    classification = chat_completion.choices[0].message.content\n",
    "    return classification\n",
    "\n",
    "\n",
    "# Example usage: Classify text using the LLaMA model\n",
    "text_to_classify = \"Women - Free Skating\"\n",
    "classification = classify_text(text_to_classify)\n",
    "\n",
    "print(\"Classification Result:\", classification)\n"
   ]
  },
  {
   "cell_type": "code",
   "execution_count": 3,
   "metadata": {},
   "outputs": [
    {
     "name": "stdout",
     "output_type": "stream",
     "text": [
      "Classification Results: [{'category': 'transportation', 'probability': 0.0}, {'category': 'catering', 'probability': 0.4}, {'category': 'customer service', 'probability': 0.0}, {'category': 'security', 'probability': 0.0}]\n"
     ]
    }
   ],
   "source": [
    "from pydantic import BaseModel\n",
    "from typing import Dict, List\n",
    "import re\n",
    "\n",
    "\n",
    "\n",
    "# Define a Pydantic model for the response\n",
    "class ClassificationResult(BaseModel):\n",
    "    category: str\n",
    "    probability: float\n",
    "\n",
    "def classify_text_with_all_probabilities(text: str, model=\"llama-3.1-8b-instant\") -> List[Dict[str, float]]:\n",
    "    # Send request to the Groq API, modify the system message to request probabilities for all categories\n",
    "    chat_completion = client.chat.completions.create(\n",
    "        messages=[\n",
    "            {\n",
    "                \"role\": \"system\",\n",
    "                \"content\": (\n",
    "                    \"You are an AI classifier. Classify the following text into the following categories: \"\n",
    "                    \"['transportation', 'catering','customer service','security'] and give the probability for each. Respond in this format: \"\n",
    "                    \"<category>: <probability>, <category>: <probability>, ...\"\n",
    "                )\n",
    "            },\n",
    "            {\n",
    "                \"role\": \"user\",\n",
    "                \"content\": text,  # The text that needs classification\n",
    "            }\n",
    "        ],\n",
    "        model=model,\n",
    "    )\n",
    "\n",
    "    # Get the response from the model (e.g., \"Sales: 0.85, Support: 0.10, Finance: 0.05, Operations: 0.00\")\n",
    "    response = chat_completion.choices[0].message.content.strip()\n",
    "\n",
    "    # Create a list to hold the final results\n",
    "    classification_results = []\n",
    "\n",
    "    # Split the response by commas to get each category and probability pair\n",
    "    categories_probabilities = response.split(\",\")\n",
    "\n",
    "    for category_probability in categories_probabilities:\n",
    "        try:\n",
    "            # Split each pair into category and probability\n",
    "            category, probability = category_probability.split(\":\")\n",
    "            # Clean the probability string by removing non-numeric characters\n",
    "            probability = re.sub(r'[^\\d.]', '', probability)  # Remove anything that's not a digit or decimal point\n",
    "\n",
    "            # Create a ClassificationResult object for each category\n",
    "            result = ClassificationResult(\n",
    "                category=category.strip(),\n",
    "                probability=float(probability.strip())\n",
    "            )\n",
    "            # Add the result to the list\n",
    "            classification_results.append(result.dict())\n",
    "        except ValueError:\n",
    "            # Handle case where the response format is not as expected\n",
    "            continue\n",
    "\n",
    "    # Return the list of results\n",
    "    return classification_results\n",
    "\n",
    "# Example usage\n",
    "text_to_classify = \"Join us for our annual company retreat on November 15th at the Lakeside Resort. Activities include team-building exercises, workshops, and a gala dinner.\"\n",
    "classification = classify_text_with_all_probabilities(text_to_classify)\n",
    "\n",
    "print(\"Classification Results:\", classification)\n"
   ]
  },
  {
   "cell_type": "markdown",
   "metadata": {},
   "source": []
  }
 ],
 "metadata": {
  "kernelspec": {
   "display_name": "gradiowin",
   "language": "python",
   "name": "python3"
  },
  "language_info": {
   "codemirror_mode": {
    "name": "ipython",
    "version": 3
   },
   "file_extension": ".py",
   "mimetype": "text/x-python",
   "name": "python",
   "nbconvert_exporter": "python",
   "pygments_lexer": "ipython3",
   "version": "3.12.7"
  }
 },
 "nbformat": 4,
 "nbformat_minor": 2
}
